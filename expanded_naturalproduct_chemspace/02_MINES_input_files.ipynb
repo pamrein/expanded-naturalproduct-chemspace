{
 "cells": [
  {
   "cell_type": "code",
   "execution_count": 3,
   "id": "3d90a38d-ee59-4c84-bbaa-c741e356da7d",
   "metadata": {},
   "outputs": [],
   "source": [
    "from defl import * \n",
    "\n",
    "# change the configsetting, to see the full tables\n",
    "pl.Config.set_tbl_rows(7)\n",
    "pl.Config(fmt_str_lengths=550)\n",
    "\n",
    "df = pl.read_csv(\"../data/LOTUS/230106_frozen_metadata_inchy_smile.csv\")"
   ]
  },
  {
   "cell_type": "code",
   "execution_count": 2,
   "id": "f714eb15-4382-4319-bc7c-fb5f4e4246e0",
   "metadata": {},
   "outputs": [
    {
     "data": {
      "text/html": [
       "<div><style>\n",
       ".dataframe > thead > tr,\n",
       ".dataframe > tbody > tr {\n",
       "  text-align: right;\n",
       "  white-space: pre-wrap;\n",
       "}\n",
       "</style>\n",
       "<small>shape: (220_823, 2)</small><table border=\"1\" class=\"dataframe\"><thead><tr><th>id</th><th>smiles</th></tr><tr><td>str</td><td>str</td></tr></thead><tbody><tr><td>&quot;XJOOMMHNYOJWCZ-UKRRQHHQSA-N&quot;</td><td>&quot;CC1=C[C@@H]2c3cccc4[nH]cc(c34)C[C@H]2N(C)C1&quot;</td></tr><tr><td>&quot;SFCYVTIQMNZUCZ-UHFFFAOYSA-N&quot;</td><td>&quot;C=C(C)C#Cc1cc(C=O)ccc1O&quot;</td></tr><tr><td>&quot;OYZXDVPSGCKVOQ-UQBPGWFLSA-N&quot;</td><td>&quot;COC(=O)[C@]12CCCC(C)(C)[C@@H]1CCc1cc(C(C)C)c(OC(C)=O)c(OC(C)=O)c12&quot;</td></tr><tr><td>&quot;MSSOSOXUURLBHN-UHFFFAOYSA-N&quot;</td><td>&quot;CCC(=O)OC1C2C(OC(=O)c3ccccc3)C34OC2(C)COC(=O)c2cccnc2C(C)C(C)C(=O)OC(C(O)C(OC(=O)c2ccccc2)C3(COC(C)=O)C1OC(C)=O)C4(C)O&quot;</td></tr><tr><td>&hellip;</td><td>&hellip;</td></tr><tr><td>&quot;QJFRZMZUUGXTJG-WECLKIJSSA-N&quot;</td><td>&quot;C[C@@H]1NC(=O)[C@@H]2[C@H](O)[C@H](O)C=NN2C(=O)COC(=O)[C@](C)(CO)NC(=O)[C@@H]2CCC=NN2C(=O)[C@H]2C[C@H](Cl)CNN2C1=O&quot;</td></tr><tr><td>&quot;YUSYSJSHVJULID-AATRIKPKSA-N&quot;</td><td>&quot;COc1ccc(/C=C/c2cc(OC)c(OC)c(OC)c2)c(O)c1O&quot;</td></tr><tr><td>&quot;AGJPNPDYGCAODE-JLNKQSITSA-N&quot;</td><td>&quot;CC/C=C\\C/C=C\\C/C=C\\C/C=C\\C/C=C\\CCCCCCCCC(=O)c1ccc(CO)[nH]1&quot;</td></tr></tbody></table></div>"
      ],
      "text/plain": [
       "shape: (220_823, 2)\n",
       "┌─────────────────────────────┬────────────────────────────────────────────────────────────────────┐\n",
       "│ id                          ┆ smiles                                                             │\n",
       "│ ---                         ┆ ---                                                                │\n",
       "│ str                         ┆ str                                                                │\n",
       "╞═════════════════════════════╪════════════════════════════════════════════════════════════════════╡\n",
       "│ XJOOMMHNYOJWCZ-UKRRQHHQSA-N ┆ CC1=C[C@@H]2c3cccc4[nH]cc(c34)C[C@H]2N(C)C1                        │\n",
       "│ SFCYVTIQMNZUCZ-UHFFFAOYSA-N ┆ C=C(C)C#Cc1cc(C=O)ccc1O                                            │\n",
       "│ OYZXDVPSGCKVOQ-UQBPGWFLSA-N ┆ COC(=O)[C@]12CCCC(C)(C)[C@@H]1CCc1cc(C(C)C)c(OC(C)=O)c(OC(C)=O)c12 │\n",
       "│ MSSOSOXUURLBHN-UHFFFAOYSA-N ┆ CCC(=O)OC1C2C(OC(=O)c3ccccc3)C34OC2(C)COC(=O)c2cccnc2C(C)C(C)C(=O) │\n",
       "│                             ┆ OC(C(O)C(OC(=O)c2ccccc2)C3(COC(C)=O)C1OC(C)=O)C4(C)O               │\n",
       "│ …                           ┆ …                                                                  │\n",
       "│ QJFRZMZUUGXTJG-WECLKIJSSA-N ┆ C[C@@H]1NC(=O)[C@@H]2[C@H](O)[C@H](O)C=NN2C(=O)COC(=O)[C@](C)(CO)N │\n",
       "│                             ┆ C(=O)[C@@H]2CCC=NN2C(=O)[C@H]2C[C@H](Cl)CNN2C1=O                   │\n",
       "│ YUSYSJSHVJULID-AATRIKPKSA-N ┆ COc1ccc(/C=C/c2cc(OC)c(OC)c(OC)c2)c(O)c1O                          │\n",
       "│ AGJPNPDYGCAODE-JLNKQSITSA-N ┆ CC/C=C\\C/C=C\\C/C=C\\C/C=C\\C/C=C\\CCCCCCCCC(=O)c1ccc(CO)[nH]1         │\n",
       "└─────────────────────────────┴────────────────────────────────────────────────────────────────────┘"
      ]
     },
     "execution_count": 2,
     "metadata": {},
     "output_type": "execute_result"
    }
   ],
   "source": [
    "df"
   ]
  },
  {
   "cell_type": "code",
   "execution_count": 3,
   "id": "a1cefadc-b75e-46b6-b75e-31fb7819cd14",
   "metadata": {},
   "outputs": [
    {
     "name": "stdout",
     "output_type": "stream",
     "text": [
      "\n",
      "Unique over all: 220823\n",
      "Unique ID: 220823\n",
      "Unique smiles: 220820\n",
      "\n"
     ]
    }
   ],
   "source": [
    "print(f\"\"\"\n",
    "Unique over all: {df.unique().shape[0]}\n",
    "Unique ID: {df[\"id\"].unique().shape[0]}\n",
    "Unique smiles: {df[\"smiles\"].unique().shape[0]}\n",
    "\"\"\")"
   ]
  },
  {
   "cell_type": "markdown",
   "id": "5b62265d-0d65-4570-8565-2847b7949f3b",
   "metadata": {},
   "source": [
    "## rulesets"
   ]
  },
  {
   "cell_type": "markdown",
   "id": "49262eb3-e653-4018-a917-069f77a833c1",
   "metadata": {},
   "source": [
    "### metacyc generalized rules\n",
    "path: \"../../MINE-Database/mine_database/data/metacyc_rules/metacyc_generalized_rules.tsv\""
   ]
  },
  {
   "cell_type": "markdown",
   "id": "ac15c2ed-57c2-41e7-948b-11d2f39d79fc",
   "metadata": {},
   "source": [
    "### Enyzmatic rules\n",
    "path: \"../../MINE-Database/mine_database/data/original_rules/EnzymaticReactionRules.tsv\""
   ]
  },
  {
   "cell_type": "code",
   "execution_count": 2,
   "id": "7864777c-d97d-4e7e-9fed-12d7c4d26b12",
   "metadata": {},
   "outputs": [
    {
     "data": {
      "text/html": [
       "<div><style>\n",
       ".dataframe > thead > tr,\n",
       ".dataframe > tbody > tr {\n",
       "  text-align: right;\n",
       "  white-space: pre-wrap;\n",
       "}\n",
       "</style>\n",
       "<small>shape: (250, 5)</small><table border=\"1\" class=\"dataframe\"><thead><tr><th>Name</th><th>Reactants</th><th>SMARTS</th><th>Products</th><th>Comments</th></tr><tr><td>str</td><td>str</td><td>str</td><td>str</td><td>str</td></tr></thead><tbody><tr><td>&quot;1.1.1_01&quot;</td><td>&quot;cpd00003;Any&quot;</td><td>&quot;[#6;H1D3:4]=[#6;H0D3:3][#6;H1D…</td><td>&quot;cpd00067;Any;cpd00004&quot;</td><td>null</td></tr><tr><td>&quot;1.1.1_02&quot;</td><td>&quot;Any;cpd00003&quot;</td><td>&quot;[#1;D1R0:2][#8;H1D2R0:3][#6:4]…</td><td>&quot;cpd00067;cpd00011;Any;cpd00004&quot;</td><td>null</td></tr><tr><td>&quot;1.1.1_02.rev&quot;</td><td>&quot;Any;cpd00004;cpd00011;cpd00067&quot;</td><td>&quot;[#1;D1R0:1][#6:4][#6:3]=[#8;H0…</td><td>&quot;cpd00003;Any&quot;</td><td>null</td></tr><tr><td>&quot;1.1.1_03&quot;</td><td>&quot;Any;cpd00001;cpd00003&quot;</td><td>&quot;[#1;D1R0:11][#7:3]1[#6:2]=[#7:…</td><td>&quot;cpd00067;cpd00004;Any&quot;</td><td>null</td></tr><tr><td>&quot;1.1.1_04&quot;</td><td>&quot;Any;cpd00003&quot;</td><td>&quot;[#1;D1R0:9][#8;H1D2:10][#6:6]1…</td><td>&quot;cpd00004;cpd00067;Any&quot;</td><td>null</td></tr><tr><td>&hellip;</td><td>&hellip;</td><td>&hellip;</td><td>&hellip;</td><td>&hellip;</td></tr><tr><td>&quot;5.3.99_01&quot;</td><td>&quot;Any&quot;</td><td>&quot;[#1;D1R0:12][#8;H1D2R0:9][#6;H…</td><td>&quot;Any&quot;</td><td>null</td></tr><tr><td>&quot;5.3.99_02&quot;</td><td>&quot;Any&quot;</td><td>&quot;[#1;D1R0:12][#8;H1D2R0:9][#6;H…</td><td>&quot;Any&quot;</td><td>null</td></tr><tr><td>&quot;5.4.2_01&quot;</td><td>&quot;Any&quot;</td><td>&quot;[#1;D1R0:11][#8;H1D2R0:10][#6;…</td><td>&quot;Any&quot;</td><td>null</td></tr><tr><td>&quot;5.4.2_01.rev&quot;</td><td>&quot;Any&quot;</td><td>&quot;[#1;D1R0:11][#8;H1D2R0:4][#6:3…</td><td>&quot;Any&quot;</td><td>null</td></tr><tr><td>&quot;5.4.2_02&quot;</td><td>&quot;Any&quot;</td><td>&quot;[#1;D1R0:5][#8;H1D2R0:4][#6;H2…</td><td>&quot;Any&quot;</td><td>null</td></tr></tbody></table></div>"
      ],
      "text/plain": [
       "shape: (250, 5)\n",
       "┌──────────────┬────────────────────────┬───────────────────────┬───────────────────────┬──────────┐\n",
       "│ Name         ┆ Reactants              ┆ SMARTS                ┆ Products              ┆ Comments │\n",
       "│ ---          ┆ ---                    ┆ ---                   ┆ ---                   ┆ ---      │\n",
       "│ str          ┆ str                    ┆ str                   ┆ str                   ┆ str      │\n",
       "╞══════════════╪════════════════════════╪═══════════════════════╪═══════════════════════╪══════════╡\n",
       "│ 1.1.1_01     ┆ cpd00003;Any           ┆ [#6;H1D3:4]=[#6;H0D3: ┆ cpd00067;Any;cpd00004 ┆ null     │\n",
       "│              ┆                        ┆ 3][#6;H1D…            ┆                       ┆          │\n",
       "│ 1.1.1_02     ┆ Any;cpd00003           ┆ [#1;D1R0:2][#8;H1D2R0 ┆ cpd00067;cpd00011;Any ┆ null     │\n",
       "│              ┆                        ┆ :3][#6:4]…            ┆ ;cpd00004             ┆          │\n",
       "│ 1.1.1_02.rev ┆ Any;cpd00004;cpd00011; ┆ [#1;D1R0:1][#6:4][#6: ┆ cpd00003;Any          ┆ null     │\n",
       "│              ┆ cpd00067               ┆ 3]=[#8;H0…            ┆                       ┆          │\n",
       "│ 1.1.1_03     ┆ Any;cpd00001;cpd00003  ┆ [#1;D1R0:11][#7:3]1[# ┆ cpd00067;cpd00004;Any ┆ null     │\n",
       "│              ┆                        ┆ 6:2]=[#7:…            ┆                       ┆          │\n",
       "│ 1.1.1_04     ┆ Any;cpd00003           ┆ [#1;D1R0:9][#8;H1D2:1 ┆ cpd00004;cpd00067;Any ┆ null     │\n",
       "│              ┆                        ┆ 0][#6:6]1…            ┆                       ┆          │\n",
       "│ …            ┆ …                      ┆ …                     ┆ …                     ┆ …        │\n",
       "│ 5.3.99_01    ┆ Any                    ┆ [#1;D1R0:12][#8;H1D2R ┆ Any                   ┆ null     │\n",
       "│              ┆                        ┆ 0:9][#6;H…            ┆                       ┆          │\n",
       "│ 5.3.99_02    ┆ Any                    ┆ [#1;D1R0:12][#8;H1D2R ┆ Any                   ┆ null     │\n",
       "│              ┆                        ┆ 0:9][#6;H…            ┆                       ┆          │\n",
       "│ 5.4.2_01     ┆ Any                    ┆ [#1;D1R0:11][#8;H1D2R ┆ Any                   ┆ null     │\n",
       "│              ┆                        ┆ 0:10][#6;…            ┆                       ┆          │\n",
       "│ 5.4.2_01.rev ┆ Any                    ┆ [#1;D1R0:11][#8;H1D2R ┆ Any                   ┆ null     │\n",
       "│              ┆                        ┆ 0:4][#6:3…            ┆                       ┆          │\n",
       "│ 5.4.2_02     ┆ Any                    ┆ [#1;D1R0:5][#8;H1D2R0 ┆ Any                   ┆ null     │\n",
       "│              ┆                        ┆ :4][#6;H2…            ┆                       ┆          │\n",
       "└──────────────┴────────────────────────┴───────────────────────┴───────────────────────┴──────────┘"
      ]
     },
     "execution_count": 2,
     "metadata": {},
     "output_type": "execute_result"
    }
   ],
   "source": [
    "df_rules_enzymatic = pl.read_csv(\"../../MINE-Database/mine_database/data/original_rules/EnzymaticReactionRules.tsv\", separator=\"\\t\")\n",
    "\n",
    "df_rules_enzymatic"
   ]
  },
  {
   "cell_type": "markdown",
   "id": "8b6d71a2",
   "metadata": {},
   "source": [
    "## Atomcount for ruleset"
   ]
  },
  {
   "cell_type": "code",
   "execution_count": 3,
   "id": "78128187-0837-4ecf-bb02-7f208fbbfd7a",
   "metadata": {
    "scrolled": true
   },
   "outputs": [],
   "source": [
    "import polars as pl\n",
    "from rdkit import Chem\n",
    "from rdkit.Chem import AllChem\n",
    "from collections import Counter\n",
    "\n",
    "\n",
    "\n",
    "# Function to get atom counts and add to an existing Counter\n",
    "def get_atom_counts(mol, existing_counts=None):\n",
    "    if existing_counts is None:\n",
    "        existing_counts = Counter()\n",
    "    \n",
    "    for atom in mol.GetAtoms():\n",
    "        atom_symbol = atom.GetSymbol()\n",
    "        existing_counts[atom_symbol] += 1\n",
    "    \n",
    "    return existing_counts\n",
    "\n",
    "# Function to analyze a single SMARTS reaction\n",
    "def analyze_reaction(smarts, reactant_atom_counts=None, product_atom_counts=None):\n",
    "    reaction = AllChem.ReactionFromSmarts(smarts)\n",
    "    \n",
    "    if reactant_atom_counts is None:\n",
    "        reactant_atom_counts = Counter()\n",
    "    \n",
    "    for reactant in reaction.GetReactants():\n",
    "        mol = reactant\n",
    "        reactant_atom_counts += get_atom_counts(mol, existing_counts=reactant_atom_counts)\n",
    "\n",
    "    if product_atom_counts is None:\n",
    "        product_atom_counts = Counter()\n",
    "        \n",
    "    for product in reaction.GetProducts():\n",
    "        mol = product\n",
    "        product_atom_counts += get_atom_counts(mol, existing_counts=product_atom_counts)\n",
    "    \n",
    "    return reactant_atom_counts, product_atom_counts\n",
    "\n",
    "\n",
    "counter_reactants = Counter()\n",
    "counter_products = Counter()\n",
    "\n",
    "for smart in df_rules_enzymatic.select(pl.col(\"SMARTS\")).iter_rows():\n",
    "    smart = smart[0]\n",
    "    counter_reactants, counter_products = analyze_reaction(smart, reactant_atom_counts=counter_reactants, product_atom_counts=counter_products)\n",
    "\n",
    "\n"
   ]
  },
  {
   "cell_type": "code",
   "execution_count": 4,
   "id": "83b2c523-325a-4535-ab48-80beb931653a",
   "metadata": {},
   "outputs": [
    {
     "data": {
      "text/plain": [
       "(Counter({'C': 2198077409439858973192230400497770840897956004375209484262698314434307685984364336960469200266731418044804859220117005832597154124724817869991056443777993408779722,\n",
       "          'H': 839045691602948208465233301240667858507757429570710891629314537699328401001677553465126169411597028185598380445460321577576631576295751663331829089854417944087598,\n",
       "          'O': 606695509455423791419988145775326641945585742417027464217582006868080203827815682242836581040892617711860299383529401745220877968006428054375443854852168695477458,\n",
       "          'N': 527824547548127435443650765614557380943524550288679082484066651870375459769610842225807129790097631299445776831702514530430803949285201969481700059392354438414336,\n",
       "          '*': 449891379628218579882281256069771053250893523824235088359912943468343715836912830873329271734851243346469645150914588626006576656855900998215778582465576341676544,\n",
       "          'S': 359614447026820676671600271900099881572959321301275129300824760060866760386841422719156320361648220369811879283819837892132864,\n",
       "          'P': 654135162062653068026754737847616010796826108450589708528420780519817765644698214067297880930971332393315069853710,\n",
       "          'Cl': 62165404551223330269422781018352605012557018849668464680057997111644937126566671941632}),\n",
       " Counter({'*': 6199238849357685515395240465479647898649280920179006459640249853717493900727538112908323832561521923556569367382058121293693181783823113250154759015199739760367320,\n",
       "          'H': 2028479489648395203253967461241410087914504671593255530355839523902317394388647991959129649349502361523039811581038017854060200433753909710369876040276522949411328,\n",
       "          'N': 494109530988171941051509746961969293019708709464166799382056647563595000604311482417195553188315707198684266978916783186114091279917028237652325693611125598322688,\n",
       "          'S': 293333180592165996422656179130950455191411448687894820091604224707030907165920485690409222144,\n",
       "          'O': 83808349891103296941472103047282533479149795744415744,\n",
       "          'C': 71835728478088540235547516897670742982128396352421888,\n",
       "          'P': 23945242826029513411849172299223580994042798784118784}))"
      ]
     },
     "execution_count": 4,
     "metadata": {},
     "output_type": "execute_result"
    }
   ],
   "source": [
    "counter_reactants, counter_products"
   ]
  },
  {
   "cell_type": "code",
   "execution_count": 6,
   "id": "00898a71-a419-4485-9282-b362f27566c0",
   "metadata": {},
   "outputs": [],
   "source": [
    "all_counter_reactants = sum(list(counter_reactants.values()))\n",
    "all_counter_products = sum(list(counter_products.values()))"
   ]
  },
  {
   "cell_type": "code",
   "execution_count": 10,
   "id": "182e967c-9abf-429a-ab71-1ccec8cd68c3",
   "metadata": {},
   "outputs": [
    {
     "name": "stdout",
     "output_type": "stream",
     "text": [
      "--reactants--\n",
      "C - 47.561635459417516\n",
      "N - 11.420980266301624\n",
      "H - 18.155131910474303\n",
      "O - 13.127577096084961\n",
      "* - 9.734675267721595\n",
      "S - 7.781277930420234e-36\n",
      "P - 1.4154068453457778e-47\n",
      "Cl - 1.3451247425385068e-75\n"
     ]
    }
   ],
   "source": [
    "print(\"--reactants--\")\n",
    "for key, value in counter_reactants.items():\n",
    "    percentage = value/all_counter_reactants*100\n",
    "    print(f'{key} - {percentage}')"
   ]
  },
  {
   "cell_type": "code",
   "execution_count": 11,
   "id": "6f5cb0a3-da58-4756-aef8-0b1789f90850",
   "metadata": {},
   "outputs": [
    {
     "name": "stdout",
     "output_type": "stream",
     "text": [
      "--products--\n",
      "C - 25.20202693981058\n",
      "N - 6.051765242513038\n",
      "H - 9.620067078937906\n",
      "O - 6.956059194227408\n",
      "* - 5.158223555133231\n",
      "S - 4.1231546000122755e-36\n",
      "P - 7.49997789239888e-48\n",
      "Cl - 7.127566087963198e-76\n"
     ]
    }
   ],
   "source": [
    "print(\"--products--\")\n",
    "for key, value in counter_reactants.items():\n",
    "    percentage = value/all_counter_products*100\n",
    "    print(f'{key} - {percentage}')"
   ]
  }
 ],
 "metadata": {
  "kernelspec": {
   "display_name": "Python 3 (ipykernel)",
   "language": "python",
   "name": "python3"
  },
  "language_info": {
   "codemirror_mode": {
    "name": "ipython",
    "version": 3
   },
   "file_extension": ".py",
   "mimetype": "text/x-python",
   "name": "python",
   "nbconvert_exporter": "python",
   "pygments_lexer": "ipython3",
   "version": "3.10.12"
  }
 },
 "nbformat": 4,
 "nbformat_minor": 5
}
